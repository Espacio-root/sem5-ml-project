{
  "cells": [
    {
      "cell_type": "code",
      "metadata": {
        "jukit_cell_id": "EsnfmrZ1oA"
      },
      "source": [
        "import torch\n",
        "import torch.nn as nn\n",
        "import torch.optim as optim\n",
        "from torch.utils.data import Dataset, DataLoader\n",
        "from torchvision import transforms\n",
        "\n",
        "from torchvision.models import resnet50\n",
        "from torchvision.models import ResNet50_Weights\n",
        "\n",
        "from typing import cast\n",
        "from tqdm import tqdm\n",
        "from math import inf\n",
        "import numpy as np\n",
        "import pandas as pd\n",
        "import os\n",
        "\n",
        "from PIL import Image\n",
        "from sklearn.model_selection import train_test_split"
      ],
      "outputs": [],
      "execution_count": null
    },
    {
      "cell_type": "code",
      "metadata": {
        "jukit_cell_id": "AZioace8NT"
      },
      "source": [
        "data_path = os.path.join(os.getcwd(), \"data\")\n",
        "model_path = os.path.join(os.getcwd(), \"models\")\n",
        "device = \"cuda\" if torch.cuda.is_available() else \"cpu\"\n",
        "\n",
        "df = pd.read_csv(rf\"{data_path}/trash.csv\")\n",
        "df = df.reset_index(drop=True)\n",
        "print(df.head())"
      ],
      "outputs": [
        {
          "output_type": "stream",
          "name": "stdout",
          "text": "                                           file_path  is_organic\n0  /home/espacio/ml/sem5-proj/data/d1/DATASET/TRA...        True\n1  /home/espacio/ml/sem5-proj/data/d1/DATASET/TRA...        True\n2  /home/espacio/ml/sem5-proj/data/d1/DATASET/TRA...        True\n3  /home/espacio/ml/sem5-proj/data/d1/DATASET/TRA...        True\n4  /home/espacio/ml/sem5-proj/data/d1/DATASET/TRA...        True\n"
        }
      ],
      "execution_count": 1
    },
    {
      "cell_type": "markdown",
      "metadata": {
        "jukit_cell_id": "ykEIxTdRNl"
      },
      "source": [
        "### Split the dataset"
      ]
    },
    {
      "cell_type": "code",
      "metadata": {
        "jukit_cell_id": "dF63PmkKvn"
      },
      "source": [
        "df_train, df_test = train_test_split(df, test_size=0.1, stratify=df[\"is_organic\"], random_state=42)\n",
        "df_train, df_test=cast(pd.DataFrame,df_train), cast(pd.DataFrame, df_test)\n",
        "df_train = df_train.reset_index(drop=True)\n",
        "df_test = df_test.reset_index(drop=True)\n",
        "print(len(df_train))\n",
        "print(len(df_test))"
      ],
      "outputs": [
        {
          "output_type": "stream",
          "name": "stdout",
          "text": "249093\n27677\n"
        }
      ],
      "execution_count": 2
    },
    {
      "cell_type": "markdown",
      "metadata": {
        "jukit_cell_id": "Dmh9VVTYMM"
      },
      "source": [
        "### Define the data loade"
      ]
    },
    {
      "cell_type": "code",
      "metadata": {
        "jukit_cell_id": "s1jn4Ax7v0"
      },
      "source": [
        "class TrashDataset(Dataset):\n",
        "    def __init__(self, df: pd.DataFrame, transform = None) -> None:\n",
        "        self.df=df\n",
        "        self.transform=transform\n",
        "\n",
        "    def __len__(self):\n",
        "        return len(self.df)\n",
        "\n",
        "    def __getitem__(self, idx):\n",
        "        file_path = self.df.loc[idx, \"file_path\"]\n",
        "        label = int(self.df.loc[idx, \"is_organic\"])\n",
        "        img = Image.open(file_path).convert(\"RGB\")\n",
        "\n",
        "        if self.transform:\n",
        "            img=self.transform(img)\n",
        "        else:\n",
        "            img=transforms.ToTensor()(img)  # scale 0-1\n",
        "        return img, label\n",
        "\n",
        "\n",
        "weights = ResNet50_Weights.DEFAULT\n",
        "preprocess = weights.transforms()\n",
        "\n",
        "trash_transforms = transforms.Compose([\n",
        "    transforms.Resize((224, 224)),\n",
        "    preprocess,\n",
        "])\n",
        "\n",
        "train_dataset = TrashDataset(df_train,trash_transforms)\n",
        "test_dataset = TrashDataset(df_test,trash_transforms)\n",
        "\n",
        "train_loader = DataLoader(train_dataset, batch_size=64, shuffle=True, num_workers=4, pin_memory=True)\n",
        "test_loader  = DataLoader(test_dataset, batch_size=64, shuffle=False, num_workers=4, pin_memory=True)"
      ],
      "outputs": [],
      "execution_count": null
    },
    {
      "cell_type": "markdown",
      "metadata": {
        "jukit_cell_id": "fx1T6TKsaX"
      },
      "source": [
        "### Define the model"
      ]
    },
    {
      "cell_type": "code",
      "metadata": {
        "jukit_cell_id": "TdmtJlyKkN"
      },
      "source": [
        "best_model_path = rf\"{model_path}/feature_extraction_model.pth\"\n",
        "model_loaded_flag = False\n",
        "\n",
        "model = resnet50(weights=ResNet50_Weights.DEFAULT)\n",
        "num_ftrs = model.fc.in_features\n",
        "model.fc=nn.Sequential(         # type: ignore\n",
        "    nn.Linear(num_ftrs, 512),\n",
        "    nn.ReLU(),\n",
        "    nn.Linear(512,1)\n",
        ")\n",
        "\n",
        "if os.path.exists(best_model_path):\n",
        "    model_loaded_flag = True\n",
        "    model.load_state_dict(torch.load(best_model_path))\n",
        "\n",
        "for param in model.parameters():\n",
        "    param.requires_grad = False\n",
        "for param in model.fc.parameters():\n",
        "    param.requires_grad = True\n",
        "\n",
        "model=model.to(device)\n",
        "model.fc.train()"
      ],
      "outputs": [
        {
          "output_type": "stream",
          "name": "stdout",
          "text": "\n"
        },
        {
          "output_type": "execute_result",
          "execution_count": 3,
          "data": {
            "text/plain": "Sequential(\n  (0): Linear(in_features=2048, out_features=512, bias=True)\n  (1): ReLU()\n  (2): Linear(in_features=512, out_features=1, bias=True)\n)"
          },
          "metadata": {}
        }
      ],
      "execution_count": 3
    },
    {
      "cell_type": "markdown",
      "metadata": {
        "jukit_cell_id": "hOhFwFI2ZH"
      },
      "source": [
        "### Define the optimize"
      ]
    },
    {
      "cell_type": "code",
      "metadata": {
        "jukit_cell_id": "3fWh0VkQXj"
      },
      "source": [
        "criterion = nn.BCEWithLogitsLoss()\n",
        "optimizer = optim.Adam(model.fc.parameters(), lr=1e-4)"
      ],
      "outputs": [],
      "execution_count": null
    },
    {
      "cell_type": "markdown",
      "metadata": {
        "jukit_cell_id": "Os38oiyOFX"
      },
      "source": [
        "### Train the model"
      ]
    },
    {
      "cell_type": "code",
      "metadata": {
        "jukit_cell_id": "WgitcRgtEc"
      },
      "source": [
        "n_epochs = 200\n",
        "best_loss = inf\n",
        "\n",
        "for epoch in range(n_epochs):\n",
        "    train_loss = 0.0\n",
        "    test_loss = 0.0\n",
        "    total = 0\n",
        "    test_correct = 0\n",
        "\n",
        "    if not model_loaded_flag:\n",
        "        model.train()\n",
        "        for (images,labels) in tqdm(train_loader):\n",
        "            images, labels = images.to(device), labels.to(device)\n",
        "\n",
        "            optimizer.zero_grad()\n",
        "            outputs = model(images)\n",
        "\n",
        "            loss = criterion(outputs,labels.float().unsqueeze(1))\n",
        "            loss.backward()\n",
        "            optimizer.step()\n",
        "\n",
        "            train_loss += loss.item()\n",
        "\n",
        "        train_loss /= len(train_loader)\n",
        "        print(f\"Epoch {epoch+1} (Train):\\n\")\n",
        "        print(f\"\\tTrain Loss: {train_loss:.4f}\")\n",
        "\n",
        "    model_loaded_flag=False\n",
        "\n",
        "    model.eval()\n",
        "    with torch.no_grad():\n",
        "        for (images,labels) in tqdm(test_loader):\n",
        "            images, labels=images.to(device), labels.to(device)\n",
        "\n",
        "            outputs = model(images)\n",
        "            loss = criterion(outputs,labels.float().unsqueeze(1))\n",
        "            predictions = (outputs>0).squeeze().long()\n",
        "\n",
        "            test_loss += loss.item()\n",
        "            total += labels.size(0)\n",
        "            test_correct += (predictions==labels).sum()\n",
        "\n",
        "    test_loss /= len(test_loader)\n",
        "    print(f\"Epoch {epoch+1} (Test):\\n\")\n",
        "    print(f\"\\tTest Loss: {test_loss:.4f}\")\n",
        "    print(f\"\\tTest Accuracy: {100*test_correct/total:.2f}%\")\n",
        "\n",
        "    if (test_loss < best_loss):\n",
        "        best_loss = test_loss\n",
        "        best_model_path = rf\"{model_path}/feature_extraction_model.pth\"\n",
        "        torch.save(model.state_dict(), best_model_path)"
      ],
      "outputs": [
        {
          "output_type": "stream",
          "name": "stdout",
          "text": "Epoch 1 (Train):\n\n\tTrain Loss: 0.0858\nEpoch 1 (Test):\n\n\tTest Loss: 0.0643\n\tTest Accuracy: 97.80%\nEpoch 2 (Train):\n\n\tTrain Loss: 0.0678\nEpoch 2 (Test):\n\n\tTest Loss: 0.0588\n\tTest Accuracy: 97.90%\nEpoch 3 (Train):\n\n\tTrain Loss: 0.0610\nEpoch 3 (Test):\n\n\tTest Loss: 0.0522\n\tTest Accuracy: 98.19%\nEpoch 4 (Train):\n\n\tTrain Loss: 0.0533\nEpoch 4 (Test):\n\n\tTest Loss: 0.0485\n\tTest Accuracy: 98.39%\nEpoch 5 (Train):\n\n\tTrain Loss: 0.0465\nEpoch 5 (Test):\n\n\tTest Loss: 0.0416\n\tTest Accuracy: 98.64%\nEpoch 6 (Train):\n\n\tTrain Loss: 0.0396\nEpoch 6 (Test):\n\n\tTest Loss: 0.0383\n\tTest Accuracy: 98.79%\nEpoch 7 (Train):\n\n\tTrain Loss: 0.0334\nEpoch 7 (Test):\n\n\tTest Loss: 0.0344\n\tTest Accuracy: 98.85%\nEpoch 8 (Train):\n\n\tTrain Loss: 0.0274\nEpoch 8 (Test):\n\n\tTest Loss: 0.0330\n\tTest Accuracy: 98.93%\nEpoch 9 (Train):\n\n\tTrain Loss: 0.0234\nEpoch 9 (Test):\n\n\tTest Loss: 0.0316\n\tTest Accuracy: 98.92%\nEpoch 10 (Train):\n\n\tTrain Loss: 0.0191\nEpoch 10 (Test):\n\n\tTest Loss: 0.0285\n\tTest Accuracy: 99.07%\nEpoch 11 (Train):\n\n\tTrain Loss: 0.0145\nEpoch 11 (Test):\n\n\tTest Loss: 0.0299\n\tTest Accuracy: 99.01%\nEpoch 12 (Train):\n\n\tTrain Loss: 0.0123\nEpoch 12 (Test):\n\n\tTest Loss: 0.0278\n\tTest Accuracy: 99.17%\nEpoch 13 (Train):\n\n\tTrain Loss: 0.0095\nEpoch 13 (Test):\n\n\tTest Loss: 0.0279\n\tTest Accuracy: 99.08%\nEpoch 14 (Train):\n\n\tTrain Loss: 0.0083\nEpoch 14 (Test):\n\n\tTest Loss: 0.0261\n\tTest Accuracy: 99.18%\nEpoch 15 (Train):\n\n\tTrain Loss: 0.0065\nEpoch 15 (Test):\n\n\tTest Loss: 0.0261\n\tTest Accuracy: 99.24%\nEpoch 16 (Train):\n\n\tTrain Loss: 0.0055\nEpoch 16 (Test):\n\n\tTest Loss: 0.0266\n\tTest Accuracy: 99.23%\nEpoch 17 (Train):\n\n\tTrain Loss: 0.0049\nEpoch 17 (Test):\n\n\tTest Loss: 0.0262\n\tTest Accuracy: 99.23%\nEpoch 18 (Train):\n\n\tTrain Loss: 0.0041\nEpoch 18 (Test):\n\n\tTest Loss: 0.0278\n\tTest Accuracy: 99.26%\nEpoch 19 (Train):\n\n\tTrain Loss: 0.0037\nEpoch 19 (Test):\n\n\tTest Loss: 0.0288\n\tTest Accuracy: 99.25%\nEpoch 20 (Train):\n\n\tTrain Loss: 0.0034\nEpoch 20 (Test):\n\n\tTest Loss: 0.0295\n\tTest Accuracy: 99.23%\nEpoch 21 (Train):\n\n\tTrain Loss: 0.0034\nEpoch 21 (Test):\n\n\tTest Loss: 0.0257\n\tTest Accuracy: 99.33%\nEpoch 22 (Train):\n\n\tTrain Loss: 0.0029\nEpoch 22 (Test):\n\n\tTest Loss: 0.0262\n\tTest Accuracy: 99.31%\nEpoch 23 (Train):\n\n\tTrain Loss: 0.0024\nEpoch 23 (Test):\n\n\tTest Loss: 0.0318\n\tTest Accuracy: 99.22%\nEpoch 24 (Train):\n\n\tTrain Loss: 0.0023\nEpoch 24 (Test):\n\n\tTest Loss: 0.0253\n\tTest Accuracy: 99.30%\nEpoch 25 (Train):\n\n\tTrain Loss: 0.0025\nEpoch 25 (Test):\n\n\tTest Loss: 0.0262\n\tTest Accuracy: 99.38%\nEpoch 26 (Train):\n\n\tTrain Loss: 0.0021\nEpoch 26 (Test):\n\n\tTest Loss: 0.0277\n\tTest Accuracy: 99.33%\nEpoch 27 (Train):\n\n\tTrain Loss: 0.0018\nEpoch 27 (Test):\n\n\tTest Loss: 0.0267\n\tTest Accuracy: 99.34%\nEpoch 28 (Train):\n\n\tTrain Loss: 0.0018\nEpoch 28 (Test):\n\n\tTest Loss: 0.0263\n\tTest Accuracy: 99.41%\nEpoch 29 (Train):\n\n\tTrain Loss: 0.0017\nEpoch 29 (Test):\n\n\tTest Loss: 0.0264\n\tTest Accuracy: 99.36%\nEpoch 30 (Train):\n\n\tTrain Loss: 0.0016\nEpoch 30 (Test):\n\n\tTest Loss: 0.0300\n\tTest Accuracy: 99.28%\nEpoch 31 (Train):\n\n\tTrain Loss: 0.0015\nEpoch 31 (Test):\n\n\tTest Loss: 0.0312\n\tTest Accuracy: 99.28%\nEpoch 32 (Train):\n\n\tTrain Loss: 0.0015\nEpoch 32 (Test):\n\n\tTest Loss: 0.0288\n\tTest Accuracy: 99.33%\nEpoch 33 (Train):\n\n\tTrain Loss: 0.0014\nEpoch 33 (Test):\n\n\tTest Loss: 0.0268\n\tTest Accuracy: 99.39%\nEpoch 34 (Train):\n\n\tTrain Loss: 0.0015\nEpoch 34 (Test):\n\n\tTest Loss: 0.0284\n\tTest Accuracy: 99.39%\nEpoch 35 (Train):\n\n\tTrain Loss: 0.0014\nEpoch 35 (Test):\n\n\tTest Loss: 0.0315\n\tTest Accuracy: 99.31%\nEpoch 36 (Train):\n\n\tTrain Loss: 0.0014\nEpoch 36 (Test):\n\n\tTest Loss: 0.0257\n\tTest Accuracy: 99.42%\nEpoch 37 (Train):\n\n\tTrain Loss: 0.0012\nEpoch 37 (Test):\n\n\tTest Loss: 0.0315\n\tTest Accuracy: 99.32%\nEpoch 38 (Train):\n\n\tTrain Loss: 0.0011\nEpoch 38 (Test):\n\n\tTest Loss: 0.0503\n\tTest Accuracy: 98.94%\nEpoch 39 (Train):\n\n\tTrain Loss: 0.0010\nEpoch 39 (Test):\n\n\tTest Loss: 0.0343\n\tTest Accuracy: 99.32%\nEpoch 40 (Train):\n\n\tTrain Loss: 0.0012\nEpoch 40 (Test):\n\n\tTest Loss: 0.0362\n\tTest Accuracy: 99.19%\nEpoch 41 (Train):\n\n\tTrain Loss: 0.0011\nEpoch 41 (Test):\n\n\tTest Loss: 0.0310\n\tTest Accuracy: 99.28%\nEpoch 42 (Train):\n\n\tTrain Loss: 0.0010\nEpoch 42 (Test):\n\n\tTest Loss: 0.0319\n\tTest Accuracy: 99.37%\nEpoch 43 (Train):\n\n\tTrain Loss: 0.0010\nEpoch 43 (Test):\n\n\tTest Loss: 0.0307\n\tTest Accuracy: 99.35%\nEpoch 44 (Train):\n\n\tTrain Loss: 0.0011\nEpoch 44 (Test):\n\n\tTest Loss: 0.0281\n\tTest Accuracy: 99.42%\nEpoch 45 (Train):\n\n\tTrain Loss: 0.0011\nEpoch 45 (Test):\n\n\tTest Loss: 0.0328\n\tTest Accuracy: 99.30%\nEpoch 46 (Train):\n\n\tTrain Loss: 0.0009\nEpoch 46 (Test):\n\n\tTest Loss: 0.0299\n\tTest Accuracy: 99.36%\nEpoch 47 (Train):\n\n\tTrain Loss: 0.0011\nEpoch 47 (Test):\n\n\tTest Loss: 0.0338\n\tTest Accuracy: 99.30%\nEpoch 48 (Train):\n\n\tTrain Loss: 0.0007\nEpoch 48 (Test):\n\n\tTest Loss: 0.0487\n\tTest Accuracy: 99.06%\nEpoch 49 (Train):\n\n\tTrain Loss: 0.0010\nEpoch 49 (Test):\n\n\tTest Loss: 0.0330\n\tTest Accuracy: 99.35%\nEpoch 50 (Train):\n\n\tTrain Loss: 0.0009\nEpoch 50 (Test):\n\n\tTest Loss: 0.0348\n\tTest Accuracy: 99.35%\nEpoch 51 (Train):\n\n\tTrain Loss: 0.0009\nEpoch 51 (Test):\n\n\tTest Loss: 0.0326\n\tTest Accuracy: 99.35%\nEpoch 52 (Train):\n\n\tTrain Loss: 0.0008\nEpoch 52 (Test):\n\n\tTest Loss: 0.0328\n\tTest Accuracy: 99.36%\nEpoch 53 (Train):\n\n\tTrain Loss: 0.0008\nEpoch 53 (Test):\n\n\tTest Loss: 0.0352\n\tTest Accuracy: 99.33%\nEpoch 54 (Train):\n\n\tTrain Loss: 0.0009\nEpoch 54 (Test):\n\n\tTest Loss: 0.0397\n\tTest Accuracy: 99.21%\nEpoch 55 (Train):\n\n\tTrain Loss: 0.0009\nEpoch 55 (Test):\n\n\tTest Loss: 0.0352\n\tTest Accuracy: 99.28%\nEpoch 56 (Train):\n\n\tTrain Loss: 0.0013\nEpoch 56 (Test):\n\n\tTest Loss: 0.0359\n\tTest Accuracy: 99.33%\nEpoch 57 (Train):\n\n\tTrain Loss: 0.0008\nEpoch 57 (Test):\n\n\tTest Loss: 0.0359\n\tTest Accuracy: 99.29%\nEpoch 58 (Train):\n\n\tTrain Loss: 0.0007\nEpoch 58 (Test):\n\n\tTest Loss: 0.0323\n\tTest Accuracy: 99.36%\n\u001b[31m---------------------------------------------------------------------------\u001b[39m\n\u001b[31mKeyboardInterrupt\u001b[39m                         Traceback (most recent call last)\n\u001b[36mCell\u001b[39m\u001b[36m \u001b[39m\u001b[32mIn[27]\u001b[39m\u001b[32m, line 16\u001b[39m\n\u001b[32m     13\u001b[39m images, labels = images.to(device), labels.to(device)\n\u001b[32m     15\u001b[39m optimizer.zero_grad()\n\u001b[32m---> \u001b[39m\u001b[32m16\u001b[39m outputs = \u001b[43mmodel\u001b[49m\u001b[43m(\u001b[49m\u001b[43mimages\u001b[49m\u001b[43m)\u001b[49m\n\u001b[32m     18\u001b[39m loss = criterion(outputs,labels.float().unsqueeze(\u001b[32m1\u001b[39m))\n\u001b[32m     19\u001b[39m loss.backward()\n\n\u001b[36mFile \u001b[39m\u001b[32m~/.conda/envs/ml/lib/python3.13/site-packages/torch/nn/modules/module.py:1773\u001b[39m, in \u001b[36mModule._wrapped_call_impl\u001b[39m\u001b[34m(self, *args, **kwargs)\u001b[39m\n\u001b[32m   1771\u001b[39m     \u001b[38;5;28;01mreturn\u001b[39;00m \u001b[38;5;28mself\u001b[39m._compiled_call_impl(*args, **kwargs)  \u001b[38;5;66;03m# type: ignore[misc]\u001b[39;00m\n\u001b[32m   1772\u001b[39m \u001b[38;5;28;01melse\u001b[39;00m:\n\u001b[32m-> \u001b[39m\u001b[32m1773\u001b[39m     \u001b[38;5;28;01mreturn\u001b[39;00m \u001b[38;5;28;43mself\u001b[39;49m\u001b[43m.\u001b[49m\u001b[43m_call_impl\u001b[49m\u001b[43m(\u001b[49m\u001b[43m*\u001b[49m\u001b[43margs\u001b[49m\u001b[43m,\u001b[49m\u001b[43m \u001b[49m\u001b[43m*\u001b[49m\u001b[43m*\u001b[49m\u001b[43mkwargs\u001b[49m\u001b[43m)\u001b[49m\n\n\u001b[36mFile \u001b[39m\u001b[32m~/.conda/envs/ml/lib/python3.13/site-packages/torch/nn/modules/module.py:1784\u001b[39m, in \u001b[36mModule._call_impl\u001b[39m\u001b[34m(self, *args, **kwargs)\u001b[39m\n\u001b[32m   1779\u001b[39m \u001b[38;5;66;03m# If we don't have any hooks, we want to skip the rest of the logic in\u001b[39;00m\n\u001b[32m   1780\u001b[39m \u001b[38;5;66;03m# this function, and just call forward.\u001b[39;00m\n\u001b[32m   1781\u001b[39m \u001b[38;5;28;01mif\u001b[39;00m \u001b[38;5;129;01mnot\u001b[39;00m (\u001b[38;5;28mself\u001b[39m._backward_hooks \u001b[38;5;129;01mor\u001b[39;00m \u001b[38;5;28mself\u001b[39m._backward_pre_hooks \u001b[38;5;129;01mor\u001b[39;00m \u001b[38;5;28mself\u001b[39m._forward_hooks \u001b[38;5;129;01mor\u001b[39;00m \u001b[38;5;28mself\u001b[39m._forward_pre_hooks\n\u001b[32m   1782\u001b[39m         \u001b[38;5;129;01mor\u001b[39;00m _global_backward_pre_hooks \u001b[38;5;129;01mor\u001b[39;00m _global_backward_hooks\n\u001b[32m   1783\u001b[39m         \u001b[38;5;129;01mor\u001b[39;00m _global_forward_hooks \u001b[38;5;129;01mor\u001b[39;00m _global_forward_pre_hooks):\n\u001b[32m-> \u001b[39m\u001b[32m1784\u001b[39m     \u001b[38;5;28;01mreturn\u001b[39;00m \u001b[43mforward_call\u001b[49m\u001b[43m(\u001b[49m\u001b[43m*\u001b[49m\u001b[43margs\u001b[49m\u001b[43m,\u001b[49m\u001b[43m \u001b[49m\u001b[43m*\u001b[49m\u001b[43m*\u001b[49m\u001b[43mkwargs\u001b[49m\u001b[43m)\u001b[49m\n\u001b[32m   1786\u001b[39m result = \u001b[38;5;28;01mNone\u001b[39;00m\n\u001b[32m   1787\u001b[39m called_always_called_hooks = \u001b[38;5;28mset\u001b[39m()\n\n\u001b[36mFile \u001b[39m\u001b[32m~/.conda/envs/ml/lib/python3.13/site-packages/torchvision/models/resnet.py:285\u001b[39m, in \u001b[36mResNet.forward\u001b[39m\u001b[34m(self, x)\u001b[39m\n\u001b[32m    284\u001b[39m \u001b[38;5;28;01mdef\u001b[39;00m\u001b[38;5;250m \u001b[39m\u001b[34mforward\u001b[39m(\u001b[38;5;28mself\u001b[39m, x: Tensor) -> Tensor:\n\u001b[32m--> \u001b[39m\u001b[32m285\u001b[39m     \u001b[38;5;28;01mreturn\u001b[39;00m \u001b[38;5;28;43mself\u001b[39;49m\u001b[43m.\u001b[49m\u001b[43m_forward_impl\u001b[49m\u001b[43m(\u001b[49m\u001b[43mx\u001b[49m\u001b[43m)\u001b[49m\n\n\u001b[36mFile \u001b[39m\u001b[32m~/.conda/envs/ml/lib/python3.13/site-packages/torchvision/models/resnet.py:274\u001b[39m, in \u001b[36mResNet._forward_impl\u001b[39m\u001b[34m(self, x)\u001b[39m\n\u001b[32m    271\u001b[39m x = \u001b[38;5;28mself\u001b[39m.maxpool(x)\n\u001b[32m    273\u001b[39m x = \u001b[38;5;28mself\u001b[39m.layer1(x)\n\u001b[32m--> \u001b[39m\u001b[32m274\u001b[39m x = \u001b[38;5;28;43mself\u001b[39;49m\u001b[43m.\u001b[49m\u001b[43mlayer2\u001b[49m\u001b[43m(\u001b[49m\u001b[43mx\u001b[49m\u001b[43m)\u001b[49m\n\u001b[32m    275\u001b[39m x = \u001b[38;5;28mself\u001b[39m.layer3(x)\n\u001b[32m    276\u001b[39m x = \u001b[38;5;28mself\u001b[39m.layer4(x)\n\n\u001b[36mFile \u001b[39m\u001b[32m~/.conda/envs/ml/lib/python3.13/site-packages/torch/nn/modules/module.py:1773\u001b[39m, in \u001b[36mModule._wrapped_call_impl\u001b[39m\u001b[34m(self, *args, **kwargs)\u001b[39m\n\u001b[32m   1771\u001b[39m     \u001b[38;5;28;01mreturn\u001b[39;00m \u001b[38;5;28mself\u001b[39m._compiled_call_impl(*args, **kwargs)  \u001b[38;5;66;03m# type: ignore[misc]\u001b[39;00m\n\u001b[32m   1772\u001b[39m \u001b[38;5;28;01melse\u001b[39;00m:\n\u001b[32m-> \u001b[39m\u001b[32m1773\u001b[39m     \u001b[38;5;28;01mreturn\u001b[39;00m \u001b[38;5;28;43mself\u001b[39;49m\u001b[43m.\u001b[49m\u001b[43m_call_impl\u001b[49m\u001b[43m(\u001b[49m\u001b[43m*\u001b[49m\u001b[43margs\u001b[49m\u001b[43m,\u001b[49m\u001b[43m \u001b[49m\u001b[43m*\u001b[49m\u001b[43m*\u001b[49m\u001b[43mkwargs\u001b[49m\u001b[43m)\u001b[49m\n\n\u001b[36mFile \u001b[39m\u001b[32m~/.conda/envs/ml/lib/python3.13/site-packages/torch/nn/modules/module.py:1784\u001b[39m, in \u001b[36mModule._call_impl\u001b[39m\u001b[34m(self, *args, **kwargs)\u001b[39m\n\u001b[32m   1779\u001b[39m \u001b[38;5;66;03m# If we don't have any hooks, we want to skip the rest of the logic in\u001b[39;00m\n\u001b[32m   1780\u001b[39m \u001b[38;5;66;03m# this function, and just call forward.\u001b[39;00m\n\u001b[32m   1781\u001b[39m \u001b[38;5;28;01mif\u001b[39;00m \u001b[38;5;129;01mnot\u001b[39;00m (\u001b[38;5;28mself\u001b[39m._backward_hooks \u001b[38;5;129;01mor\u001b[39;00m \u001b[38;5;28mself\u001b[39m._backward_pre_hooks \u001b[38;5;129;01mor\u001b[39;00m \u001b[38;5;28mself\u001b[39m._forward_hooks \u001b[38;5;129;01mor\u001b[39;00m \u001b[38;5;28mself\u001b[39m._forward_pre_hooks\n\u001b[32m   1782\u001b[39m         \u001b[38;5;129;01mor\u001b[39;00m _global_backward_pre_hooks \u001b[38;5;129;01mor\u001b[39;00m _global_backward_hooks\n\u001b[32m   1783\u001b[39m         \u001b[38;5;129;01mor\u001b[39;00m _global_forward_hooks \u001b[38;5;129;01mor\u001b[39;00m _global_forward_pre_hooks):\n\u001b[32m-> \u001b[39m\u001b[32m1784\u001b[39m     \u001b[38;5;28;01mreturn\u001b[39;00m \u001b[43mforward_call\u001b[49m\u001b[43m(\u001b[49m\u001b[43m*\u001b[49m\u001b[43margs\u001b[49m\u001b[43m,\u001b[49m\u001b[43m \u001b[49m\u001b[43m*\u001b[49m\u001b[43m*\u001b[49m\u001b[43mkwargs\u001b[49m\u001b[43m)\u001b[49m\n\u001b[32m   1786\u001b[39m result = \u001b[38;5;28;01mNone\u001b[39;00m\n\u001b[32m   1787\u001b[39m called_always_called_hooks = \u001b[38;5;28mset\u001b[39m()\n\n\u001b[36mFile \u001b[39m\u001b[32m~/.conda/envs/ml/lib/python3.13/site-packages/torch/nn/modules/container.py:244\u001b[39m, in \u001b[36mSequential.forward\u001b[39m\u001b[34m(self, input)\u001b[39m\n\u001b[32m    242\u001b[39m \u001b[38;5;28;01mdef\u001b[39;00m\u001b[38;5;250m \u001b[39m\u001b[34mforward\u001b[39m(\u001b[38;5;28mself\u001b[39m, \u001b[38;5;28minput\u001b[39m):\n\u001b[32m    243\u001b[39m     \u001b[38;5;28;01mfor\u001b[39;00m module \u001b[38;5;129;01min\u001b[39;00m \u001b[38;5;28mself\u001b[39m:\n\u001b[32m--> \u001b[39m\u001b[32m244\u001b[39m         \u001b[38;5;28minput\u001b[39m = \u001b[43mmodule\u001b[49m\u001b[43m(\u001b[49m\u001b[38;5;28;43minput\u001b[39;49m\u001b[43m)\u001b[49m\n\u001b[32m    245\u001b[39m     \u001b[38;5;28;01mreturn\u001b[39;00m \u001b[38;5;28minput\u001b[39m\n\n\u001b[36mFile \u001b[39m\u001b[32m~/.conda/envs/ml/lib/python3.13/site-packages/torch/nn/modules/module.py:1773\u001b[39m, in \u001b[36mModule._wrapped_call_impl\u001b[39m\u001b[34m(self, *args, **kwargs)\u001b[39m\n\u001b[32m   1771\u001b[39m     \u001b[38;5;28;01mreturn\u001b[39;00m \u001b[38;5;28mself\u001b[39m._compiled_call_impl(*args, **kwargs)  \u001b[38;5;66;03m# type: ignore[misc]\u001b[39;00m\n\u001b[32m   1772\u001b[39m \u001b[38;5;28;01melse\u001b[39;00m:\n\u001b[32m-> \u001b[39m\u001b[32m1773\u001b[39m     \u001b[38;5;28;01mreturn\u001b[39;00m \u001b[38;5;28;43mself\u001b[39;49m\u001b[43m.\u001b[49m\u001b[43m_call_impl\u001b[49m\u001b[43m(\u001b[49m\u001b[43m*\u001b[49m\u001b[43margs\u001b[49m\u001b[43m,\u001b[49m\u001b[43m \u001b[49m\u001b[43m*\u001b[49m\u001b[43m*\u001b[49m\u001b[43mkwargs\u001b[49m\u001b[43m)\u001b[49m\n\n\u001b[36mFile \u001b[39m\u001b[32m~/.conda/envs/ml/lib/python3.13/site-packages/torch/nn/modules/module.py:1784\u001b[39m, in \u001b[36mModule._call_impl\u001b[39m\u001b[34m(self, *args, **kwargs)\u001b[39m\n\u001b[32m   1779\u001b[39m \u001b[38;5;66;03m# If we don't have any hooks, we want to skip the rest of the logic in\u001b[39;00m\n\u001b[32m   1780\u001b[39m \u001b[38;5;66;03m# this function, and just call forward.\u001b[39;00m\n\u001b[32m   1781\u001b[39m \u001b[38;5;28;01mif\u001b[39;00m \u001b[38;5;129;01mnot\u001b[39;00m (\u001b[38;5;28mself\u001b[39m._backward_hooks \u001b[38;5;129;01mor\u001b[39;00m \u001b[38;5;28mself\u001b[39m._backward_pre_hooks \u001b[38;5;129;01mor\u001b[39;00m \u001b[38;5;28mself\u001b[39m._forward_hooks \u001b[38;5;129;01mor\u001b[39;00m \u001b[38;5;28mself\u001b[39m._forward_pre_hooks\n\u001b[32m   1782\u001b[39m         \u001b[38;5;129;01mor\u001b[39;00m _global_backward_pre_hooks \u001b[38;5;129;01mor\u001b[39;00m _global_backward_hooks\n\u001b[32m   1783\u001b[39m         \u001b[38;5;129;01mor\u001b[39;00m _global_forward_hooks \u001b[38;5;129;01mor\u001b[39;00m _global_forward_pre_hooks):\n\u001b[32m-> \u001b[39m\u001b[32m1784\u001b[39m     \u001b[38;5;28;01mreturn\u001b[39;00m \u001b[43mforward_call\u001b[49m\u001b[43m(\u001b[49m\u001b[43m*\u001b[49m\u001b[43margs\u001b[49m\u001b[43m,\u001b[49m\u001b[43m \u001b[49m\u001b[43m*\u001b[49m\u001b[43m*\u001b[49m\u001b[43mkwargs\u001b[49m\u001b[43m)\u001b[49m\n\u001b[32m   1786\u001b[39m result = \u001b[38;5;28;01mNone\u001b[39;00m\n\u001b[32m   1787\u001b[39m called_always_called_hooks = \u001b[38;5;28mset\u001b[39m()\n\n\u001b[36mFile \u001b[39m\u001b[32m~/.conda/envs/ml/lib/python3.13/site-packages/torchvision/models/resnet.py:147\u001b[39m, in \u001b[36mBottleneck.forward\u001b[39m\u001b[34m(self, x)\u001b[39m\n\u001b[32m    144\u001b[39m identity = x\n\u001b[32m    146\u001b[39m out = \u001b[38;5;28mself\u001b[39m.conv1(x)\n\u001b[32m--> \u001b[39m\u001b[32m147\u001b[39m out = \u001b[38;5;28;43mself\u001b[39;49m\u001b[43m.\u001b[49m\u001b[43mbn1\u001b[49m\u001b[43m(\u001b[49m\u001b[43mout\u001b[49m\u001b[43m)\u001b[49m\n\u001b[32m    148\u001b[39m out = \u001b[38;5;28mself\u001b[39m.relu(out)\n\u001b[32m    150\u001b[39m out = \u001b[38;5;28mself\u001b[39m.conv2(out)\n\n\u001b[36mFile \u001b[39m\u001b[32m~/.conda/envs/ml/lib/python3.13/site-packages/torch/nn/modules/module.py:1773\u001b[39m, in \u001b[36mModule._wrapped_call_impl\u001b[39m\u001b[34m(self, *args, **kwargs)\u001b[39m\n\u001b[32m   1771\u001b[39m     \u001b[38;5;28;01mreturn\u001b[39;00m \u001b[38;5;28mself\u001b[39m._compiled_call_impl(*args, **kwargs)  \u001b[38;5;66;03m# type: ignore[misc]\u001b[39;00m\n\u001b[32m   1772\u001b[39m \u001b[38;5;28;01melse\u001b[39;00m:\n\u001b[32m-> \u001b[39m\u001b[32m1773\u001b[39m     \u001b[38;5;28;01mreturn\u001b[39;00m \u001b[38;5;28;43mself\u001b[39;49m\u001b[43m.\u001b[49m\u001b[43m_call_impl\u001b[49m\u001b[43m(\u001b[49m\u001b[43m*\u001b[49m\u001b[43margs\u001b[49m\u001b[43m,\u001b[49m\u001b[43m \u001b[49m\u001b[43m*\u001b[49m\u001b[43m*\u001b[49m\u001b[43mkwargs\u001b[49m\u001b[43m)\u001b[49m\n\n\u001b[36mFile \u001b[39m\u001b[32m~/.conda/envs/ml/lib/python3.13/site-packages/torch/nn/modules/module.py:1784\u001b[39m, in \u001b[36mModule._call_impl\u001b[39m\u001b[34m(self, *args, **kwargs)\u001b[39m\n\u001b[32m   1779\u001b[39m \u001b[38;5;66;03m# If we don't have any hooks, we want to skip the rest of the logic in\u001b[39;00m\n\u001b[32m   1780\u001b[39m \u001b[38;5;66;03m# this function, and just call forward.\u001b[39;00m\n\u001b[32m   1781\u001b[39m \u001b[38;5;28;01mif\u001b[39;00m \u001b[38;5;129;01mnot\u001b[39;00m (\u001b[38;5;28mself\u001b[39m._backward_hooks \u001b[38;5;129;01mor\u001b[39;00m \u001b[38;5;28mself\u001b[39m._backward_pre_hooks \u001b[38;5;129;01mor\u001b[39;00m \u001b[38;5;28mself\u001b[39m._forward_hooks \u001b[38;5;129;01mor\u001b[39;00m \u001b[38;5;28mself\u001b[39m._forward_pre_hooks\n\u001b[32m   1782\u001b[39m         \u001b[38;5;129;01mor\u001b[39;00m _global_backward_pre_hooks \u001b[38;5;129;01mor\u001b[39;00m _global_backward_hooks\n\u001b[32m   1783\u001b[39m         \u001b[38;5;129;01mor\u001b[39;00m _global_forward_hooks \u001b[38;5;129;01mor\u001b[39;00m _global_forward_pre_hooks):\n\u001b[32m-> \u001b[39m\u001b[32m1784\u001b[39m     \u001b[38;5;28;01mreturn\u001b[39;00m \u001b[43mforward_call\u001b[49m\u001b[43m(\u001b[49m\u001b[43m*\u001b[49m\u001b[43margs\u001b[49m\u001b[43m,\u001b[49m\u001b[43m \u001b[49m\u001b[43m*\u001b[49m\u001b[43m*\u001b[49m\u001b[43mkwargs\u001b[49m\u001b[43m)\u001b[49m\n\u001b[32m   1786\u001b[39m result = \u001b[38;5;28;01mNone\u001b[39;00m\n\u001b[32m   1787\u001b[39m called_always_called_hooks = \u001b[38;5;28mset\u001b[39m()\n\n\u001b[36mFile \u001b[39m\u001b[32m~/.conda/envs/ml/lib/python3.13/site-packages/torch/nn/modules/batchnorm.py:159\u001b[39m, in \u001b[36m_BatchNorm.forward\u001b[39m\u001b[34m(self, input)\u001b[39m\n\u001b[32m    154\u001b[39m     factory_kwargs = {\u001b[33m\"\u001b[39m\u001b[33mdevice\u001b[39m\u001b[33m\"\u001b[39m: device, \u001b[33m\"\u001b[39m\u001b[33mdtype\u001b[39m\u001b[33m\"\u001b[39m: dtype}\n\u001b[32m    155\u001b[39m     \u001b[38;5;28msuper\u001b[39m().\u001b[34m__init__\u001b[39m(\n\u001b[32m    156\u001b[39m         num_features, eps, momentum, affine, track_running_stats, **factory_kwargs\n\u001b[32m    157\u001b[39m     )\n\u001b[32m--> \u001b[39m\u001b[32m159\u001b[39m \u001b[38;5;28;01mdef\u001b[39;00m\u001b[38;5;250m \u001b[39m\u001b[34mforward\u001b[39m(\u001b[38;5;28mself\u001b[39m, \u001b[38;5;28minput\u001b[39m: Tensor) -> Tensor:\n\u001b[32m    160\u001b[39m     \u001b[38;5;28mself\u001b[39m._check_input_dim(\u001b[38;5;28minput\u001b[39m)\n\u001b[32m    162\u001b[39m     \u001b[38;5;66;03m# exponential_average_factor is set to self.momentum\u001b[39;00m\n\u001b[32m    163\u001b[39m     \u001b[38;5;66;03m# (when it is available) only so that it gets updated\u001b[39;00m\n\u001b[32m    164\u001b[39m     \u001b[38;5;66;03m# in ONNX graph when this node is exported to ONNX.\u001b[39;00m\n\n\u001b[31mKeyboardInterrupt\u001b[39m: \n"
        }
      ],
      "execution_count": 4
    },
    {
      "cell_type": "markdown",
      "metadata": {
        "jukit_cell_id": "WhhhgML63f"
      },
      "source": [
        "### Load best model"
      ]
    },
    {
      "cell_type": "code",
      "metadata": {
        "jukit_cell_id": "QG3Tz75Ptf"
      },
      "source": [
        "model = resnet50(weights=ResNet50_Weights.DEFAULT)\n",
        "num_ftrs = model.fc.in_features\n",
        "\n",
        "model.fc=nn.Sequential(         # type: ignore\n",
        "    nn.Linear(num_ftrs, 512),\n",
        "    nn.ReLU(),\n",
        "    nn.Linear(512,1)\n",
        ")\n",
        "model.load_state_dict(torch.load(rf\"{model_path}/feature_extraction_model.pth\", map_location=device))\n",
        "\n",
        "model.fc = nn.Sequential(*list(model.fc.children())[:-1]) # type: ignore\n",
        "model.eval()\n",
        "model.to(device)"
      ],
      "outputs": [
        {
          "output_type": "stream",
          "name": "stdout",
          "text": "\n"
        },
        {
          "output_type": "execute_result",
          "execution_count": 5,
          "data": {
            "text/plain": "ResNet(\n  (conv1): Conv2d(3, 64, kernel_size=(7, 7), stride=(2, 2), padding=(3, 3), bias=False)\n  (bn1): BatchNorm2d(64, eps=1e-05, momentum=0.1, affine=True, track_running_stats=True)\n  (relu): ReLU(inplace=True)\n  (maxpool): MaxPool2d(kernel_size=3, stride=2, padding=1, dilation=1, ceil_mode=False)\n  (layer1): Sequential(\n    (0): Bottleneck(\n      (conv1): Conv2d(64, 64, kernel_size=(1, 1), stride=(1, 1), bias=False)\n      (bn1): BatchNorm2d(64, eps=1e-05, momentum=0.1, affine=True, track_running_stats=True)\n      (conv2): Conv2d(64, 64, kernel_size=(3, 3), stride=(1, 1), padding=(1, 1), bias=False)\n      (bn2): BatchNorm2d(64, eps=1e-05, momentum=0.1, affine=True, track_running_stats=True)\n      (conv3): Conv2d(64, 256, kernel_size=(1, 1), stride=(1, 1), bias=False)\n      (bn3): BatchNorm2d(256, eps=1e-05, momentum=0.1, affine=True, track_running_stats=True)\n      (relu): ReLU(inplace=True)\n      (downsample): Sequential(\n        (0): Conv2d(64, 256, kernel_size=(1, 1), stride=(1, 1), bias=False)\n        (1): BatchNorm2d(256, eps=1e-05, momentum=0.1, affine=True, track_running_stats=True)\n      )\n    )\n    (1): Bottleneck(\n      (conv1): Conv2d(256, 64, kernel_size=(1, 1), stride=(1, 1), bias=False)\n      (bn1): BatchNorm2d(64, eps=1e-05, momentum=0.1, affine=True, track_running_stats=True)\n      (conv2): Conv2d(64, 64, kernel_size=(3, 3), stride=(1, 1), padding=(1, 1), bias=False)\n      (bn2): BatchNorm2d(64, eps=1e-05, momentum=0.1, affine=True, track_running_stats=True)\n      (conv3): Conv2d(64, 256, kernel_size=(1, 1), stride=(1, 1), bias=False)\n      (bn3): BatchNorm2d(256, eps=1e-05, momentum=0.1, affine=True, track_running_stats=True)\n      (relu): ReLU(inplace=True)\n    )\n    (2): Bottleneck(\n      (conv1): Conv2d(256, 64, kernel_size=(1, 1), stride=(1, 1), bias=False)\n      (bn1): BatchNorm2d(64, eps=1e-05, momentum=0.1, affine=True, track_running_stats=True)\n      (conv2): Conv2d(64, 64, kernel_size=(3, 3), stride=(1, 1), padding=(1, 1), bias=False)\n      (bn2): BatchNorm2d(64, eps=1e-05, momentum=0.1, affine=True, track_running_stats=True)\n      (conv3): Conv2d(64, 256, kernel_size=(1, 1), stride=(1, 1), bias=False)\n      (bn3): BatchNorm2d(256, eps=1e-05, momentum=0.1, affine=True, track_running_stats=True)\n      (relu): ReLU(inplace=True)\n    )\n  )\n  (layer2): Sequential(\n    (0): Bottleneck(\n      (conv1): Conv2d(256, 128, kernel_size=(1, 1), stride=(1, 1), bias=False)\n      (bn1): BatchNorm2d(128, eps=1e-05, momentum=0.1, affine=True, track_running_stats=True)\n      (conv2): Conv2d(128, 128, kernel_size=(3, 3), stride=(2, 2), padding=(1, 1), bias=False)\n      (bn2): BatchNorm2d(128, eps=1e-05, momentum=0.1, affine=True, track_running_stats=True)\n      (conv3): Conv2d(128, 512, kernel_size=(1, 1), stride=(1, 1), bias=False)\n      (bn3): BatchNorm2d(512, eps=1e-05, momentum=0.1, affine=True, track_running_stats=True)\n      (relu): ReLU(inplace=True)\n      (downsample): Sequential(\n        (0): Conv2d(256, 512, kernel_size=(1, 1), stride=(2, 2), bias=False)\n        (1): BatchNorm2d(512, eps=1e-05, momentum=0.1, affine=True, track_running_stats=True)\n      )\n    )\n    (1): Bottleneck(\n      (conv1): Conv2d(512, 128, kernel_size=(1, 1), stride=(1, 1), bias=False)\n      (bn1): BatchNorm2d(128, eps=1e-05, momentum=0.1, affine=True, track_running_stats=True)\n      (conv2): Conv2d(128, 128, kernel_size=(3, 3), stride=(1, 1), padding=(1, 1), bias=False)\n      (bn2): BatchNorm2d(128, eps=1e-05, momentum=0.1, affine=True, track_running_stats=True)\n      (conv3): Conv2d(128, 512, kernel_size=(1, 1), stride=(1, 1), bias=False)\n      (bn3): BatchNorm2d(512, eps=1e-05, momentum=0.1, affine=True, track_running_stats=True)\n      (relu): ReLU(inplace=True)\n    )\n    (2): Bottleneck(\n      (conv1): Conv2d(512, 128, kernel_size=(1, 1), stride=(1, 1), bias=False)\n      (bn1): BatchNorm2d(128, eps=1e-05, momentum=0.1, affine=True, track_running_stats=True)\n      (conv2): Conv2d(128, 128, kernel_size=(3, 3), stride=(1, 1), padding=(1, 1), bias=False)\n      (bn2): BatchNorm2d(128, eps=1e-05, momentum=0.1, affine=True, track_running_stats=True)\n      (conv3): Conv2d(128, 512, kernel_size=(1, 1), stride=(1, 1), bias=False)\n      (bn3): BatchNorm2d(512, eps=1e-05, momentum=0.1, affine=True, track_running_stats=True)\n      (relu): ReLU(inplace=True)\n    )\n    (3): Bottleneck(\n      (conv1): Conv2d(512, 128, kernel_size=(1, 1), stride=(1, 1), bias=False)\n      (bn1): BatchNorm2d(128, eps=1e-05, momentum=0.1, affine=True, track_running_stats=True)\n      (conv2): Conv2d(128, 128, kernel_size=(3, 3), stride=(1, 1), padding=(1, 1), bias=False)\n      (bn2): BatchNorm2d(128, eps=1e-05, momentum=0.1, affine=True, track_running_stats=True)\n      (conv3): Conv2d(128, 512, kernel_size=(1, 1), stride=(1, 1), bias=False)\n      (bn3): BatchNorm2d(512, eps=1e-05, momentum=0.1, affine=True, track_running_stats=True)\n      (relu): ReLU(inplace=True)\n    )\n  )\n  (layer3): Sequential(\n    (0): Bottleneck(\n      (conv1): Conv2d(512, 256, kernel_size=(1, 1), stride=(1, 1), bias=False)\n      (bn1): BatchNorm2d(256, eps=1e-05, momentum=0.1, affine=True, track_running_stats=True)\n      (conv2): Conv2d(256, 256, kernel_size=(3, 3), stride=(2, 2), padding=(1, 1), bias=False)\n      (bn2): BatchNorm2d(256, eps=1e-05, momentum=0.1, affine=True, track_running_stats=True)\n      (conv3): Conv2d(256, 1024, kernel_size=(1, 1), stride=(1, 1), bias=False)\n      (bn3): BatchNorm2d(1024, eps=1e-05, momentum=0.1, affine=True, track_running_stats=True)\n      (relu): ReLU(inplace=True)\n      (downsample): Sequential(\n        (0): Conv2d(512, 1024, kernel_size=(1, 1), stride=(2, 2), bias=False)\n        (1): BatchNorm2d(1024, eps=1e-05, momentum=0.1, affine=True, track_running_stats=True)\n      )\n    )\n    (1): Bottleneck(\n      (conv1): Conv2d(1024, 256, kernel_size=(1, 1), stride=(1, 1), bias=False)\n      (bn1): BatchNorm2d(256, eps=1e-05, momentum=0.1, affine=True, track_running_stats=True)\n      (conv2): Conv2d(256, 256, kernel_size=(3, 3), stride=(1, 1), padding=(1, 1), bias=False)\n      (bn2): BatchNorm2d(256, eps=1e-05, momentum=0.1, affine=True, track_running_stats=True)\n      (conv3): Conv2d(256, 1024, kernel_size=(1, 1), stride=(1, 1), bias=False)\n      (bn3): BatchNorm2d(1024, eps=1e-05, momentum=0.1, affine=True, track_running_stats=True)\n      (relu): ReLU(inplace=True)\n    )\n    (2): Bottleneck(\n      (conv1): Conv2d(1024, 256, kernel_size=(1, 1), stride=(1, 1), bias=False)\n      (bn1): BatchNorm2d(256, eps=1e-05, momentum=0.1, affine=True, track_running_stats=True)\n      (conv2): Conv2d(256, 256, kernel_size=(3, 3), stride=(1, 1), padding=(1, 1), bias=False)\n      (bn2): BatchNorm2d(256, eps=1e-05, momentum=0.1, affine=True, track_running_stats=True)\n      (conv3): Conv2d(256, 1024, kernel_size=(1, 1), stride=(1, 1), bias=False)\n      (bn3): BatchNorm2d(1024, eps=1e-05, momentum=0.1, affine=True, track_running_stats=True)\n      (relu): ReLU(inplace=True)\n    )\n    (3): Bottleneck(\n      (conv1): Conv2d(1024, 256, kernel_size=(1, 1), stride=(1, 1), bias=False)\n      (bn1): BatchNorm2d(256, eps=1e-05, momentum=0.1, affine=True, track_running_stats=True)\n      (conv2): Conv2d(256, 256, kernel_size=(3, 3), stride=(1, 1), padding=(1, 1), bias=False)\n      (bn2): BatchNorm2d(256, eps=1e-05, momentum=0.1, affine=True, track_running_stats=True)\n      (conv3): Conv2d(256, 1024, kernel_size=(1, 1), stride=(1, 1), bias=False)\n      (bn3): BatchNorm2d(1024, eps=1e-05, momentum=0.1, affine=True, track_running_stats=True)\n      (relu): ReLU(inplace=True)\n    )\n    (4): Bottleneck(\n      (conv1): Conv2d(1024, 256, kernel_size=(1, 1), stride=(1, 1), bias=False)\n      (bn1): BatchNorm2d(256, eps=1e-05, momentum=0.1, affine=True, track_running_stats=True)\n      (conv2): Conv2d(256, 256, kernel_size=(3, 3), stride=(1, 1), padding=(1, 1), bias=False)\n      (bn2): BatchNorm2d(256, eps=1e-05, momentum=0.1, affine=True, track_running_stats=True)\n      (conv3): Conv2d(256, 1024, kernel_size=(1, 1), stride=(1, 1), bias=False)\n      (bn3): BatchNorm2d(1024, eps=1e-05, momentum=0.1, affine=True, track_running_stats=True)\n      (relu): ReLU(inplace=True)\n    )\n    (5): Bottleneck(\n      (conv1): Conv2d(1024, 256, kernel_size=(1, 1), stride=(1, 1), bias=False)\n      (bn1): BatchNorm2d(256, eps=1e-05, momentum=0.1, affine=True, track_running_stats=True)\n      (conv2): Conv2d(256, 256, kernel_size=(3, 3), stride=(1, 1), padding=(1, 1), bias=False)\n      (bn2): BatchNorm2d(256, eps=1e-05, momentum=0.1, affine=True, track_running_stats=True)\n      (conv3): Conv2d(256, 1024, kernel_size=(1, 1), stride=(1, 1), bias=False)\n      (bn3): BatchNorm2d(1024, eps=1e-05, momentum=0.1, affine=True, track_running_stats=True)\n      (relu): ReLU(inplace=True)\n    )\n  )\n  (layer4): Sequential(\n    (0): Bottleneck(\n      (conv1): Conv2d(1024, 512, kernel_size=(1, 1), stride=(1, 1), bias=False)\n      (bn1): BatchNorm2d(512, eps=1e-05, momentum=0.1, affine=True, track_running_stats=True)\n      (conv2): Conv2d(512, 512, kernel_size=(3, 3), stride=(2, 2), padding=(1, 1), bias=False)\n      (bn2): BatchNorm2d(512, eps=1e-05, momentum=0.1, affine=True, track_running_stats=True)\n      (conv3): Conv2d(512, 2048, kernel_size=(1, 1), stride=(1, 1), bias=False)\n      (bn3): BatchNorm2d(2048, eps=1e-05, momentum=0.1, affine=True, track_running_stats=True)\n      (relu): ReLU(inplace=True)\n      (downsample): Sequential(\n        (0): Conv2d(1024, 2048, kernel_size=(1, 1), stride=(2, 2), bias=False)\n        (1): BatchNorm2d(2048, eps=1e-05, momentum=0.1, affine=True, track_running_stats=True)\n      )\n    )\n    (1): Bottleneck(\n      (conv1): Conv2d(2048, 512, kernel_size=(1, 1), stride=(1, 1), bias=False)\n      (bn1): BatchNorm2d(512, eps=1e-05, momentum=0.1, affine=True, track_running_stats=True)\n      (conv2): Conv2d(512, 512, kernel_size=(3, 3), stride=(1, 1), padding=(1, 1), bias=False)\n      (bn2): BatchNorm2d(512, eps=1e-05, momentum=0.1, affine=True, track_running_stats=True)\n      (conv3): Conv2d(512, 2048, kernel_size=(1, 1), stride=(1, 1), bias=False)\n      (bn3): BatchNorm2d(2048, eps=1e-05, momentum=0.1, affine=True, track_running_stats=True)\n      (relu): ReLU(inplace=True)\n    )\n    (2): Bottleneck(\n      (conv1): Conv2d(2048, 512, kernel_size=(1, 1), stride=(1, 1), bias=False)\n      (bn1): BatchNorm2d(512, eps=1e-05, momentum=0.1, affine=True, track_running_stats=True)\n      (conv2): Conv2d(512, 512, kernel_size=(3, 3), stride=(1, 1), padding=(1, 1), bias=False)\n      (bn2): BatchNorm2d(512, eps=1e-05, momentum=0.1, affine=True, track_running_stats=True)\n      (conv3): Conv2d(512, 2048, kernel_size=(1, 1), stride=(1, 1), bias=False)\n      (bn3): BatchNorm2d(2048, eps=1e-05, momentum=0.1, affine=True, track_running_stats=True)\n      (relu): ReLU(inplace=True)\n    )\n  )\n  (avgpool): AdaptiveAvgPool2d(output_size=(1, 1))\n  (fc): Sequential(\n    (0): Linear(in_features=2048, out_features=512, bias=True)\n    (1): ReLU()\n  )\n)"
          },
          "metadata": {}
        }
      ],
      "execution_count": 5
    },
    {
      "cell_type": "markdown",
      "metadata": {
        "jukit_cell_id": "xNLJgdvSqP"
      },
      "source": [
        "### Generate feature vectors"
      ]
    },
    {
      "cell_type": "code",
      "metadata": {
        "jukit_cell_id": "FinalCSV"
      },
      "source": [
        "full_dataset = TrashDataset(df, trash_transforms)\n",
        "full_loader = DataLoader(full_dataset, batch_size=64, shuffle=False, num_workers=4, pin_memory=True)\n",
        "\n",
        "all_features = []\n",
        "all_labels = []\n",
        "\n",
        "with torch.no_grad():\n",
        "    for (images, labels) in tqdm(full_loader, desc=\"Extracting features\"):\n",
        "        images = images.to(device)\n",
        "\n",
        "        features = model(images)\n",
        "\n",
        "        all_features.append(features.cpu().numpy())\n",
        "        all_labels.append(labels.numpy())\n",
        "\n",
        "all_features = np.concatenate(all_features, axis=0)\n",
        "all_labels = np.concatenate(all_labels, axis=0)\n",
        "\n",
        "print(\"Final feature shape:\", all_features.shape)\n",
        "print(\"Final labels shape:\", all_labels.shape)\n",
        "\n",
        "features_df = pd.DataFrame(all_features)\n",
        "features_df[\"label\"] = all_labels\n",
        "\n",
        "output_path = os.path.join(data_path, \"final.csv\")\n",
        "features_df.to_csv(output_path, index=False)\n",
        "\n",
        "print(f\"Saved feature vectors + labels to {output_path}\")"
      ],
      "outputs": [
        {
          "output_type": "stream",
          "name": "stdout",
          "text": "Final feature shape: (276770, 512)\nFinal labels shape: (276770,)\nSaved feature vectors + labels to /home/espacio/ml/sem5-proj/data/final.csv\n"
        }
      ],
      "execution_count": 6
    }
  ],
  "metadata": {
    "anaconda-cloud": {},
    "kernelspec": {
      "display_name": "python",
      "language": "python",
      "name": "python3"
    }
  },
  "nbformat": 4,
  "nbformat_minor": 4
}