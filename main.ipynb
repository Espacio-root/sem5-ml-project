{
  "cells": [
    {
      "cell_type": "code",
      "metadata": {
        "jukit_cell_id": "R3Wi8zGFtH"
      },
      "source": [
        "import pandas as pd\n",
        "import matplotlib.pyplot as plt\n",
        "import numpy as np\n",
        "from PIL import Image\n",
        "import random\n",
        "import os\n",
        "\n",
        "import torch\n",
        "import torch.nn as nn\n",
        "import torch.optim as optim\n",
        "from torch.utils.data import Dataset, DataLoader\n",
        "from torchvision import transforms\n",
        "\n",
        "from sklearn.model_selection import train_test_split\n",
        "from tqdm import tqdm"
      ],
      "outputs": [],
      "execution_count": null
    },
    {
      "cell_type": "markdown",
      "metadata": {
        "jukit_cell_id": "QLNH0iOISC"
      },
      "source": [
        "# Dataset Preprocessing\n",
        "\n",
        "### Downloading the datasets.\n",
        "Download the following files and place them in ./data/d1, ./data/d2, ./data/d3 respectively\n",
        "1. https://www.kaggle.com/datasets/techsash/waste-classification-data\n",
        "2. https://www.kaggle.com/datasets/rayhanzamzamy/non-and-biodegradable-waste-dataset\n",
        "3. https://www.kaggle.com/datasets/alistairking/recyclable-and-household-waste-classification"
      ]
    },
    {
      "cell_type": "markdown",
      "metadata": {
        "jukit_cell_id": "TtPI0dYL9z"
      },
      "source": [
        "### Load the datasets."
      ]
    },
    {
      "cell_type": "code",
      "metadata": {
        "jukit_cell_id": "WiS0khFuoH"
      },
      "source": [
        "data_path = os.path.join(os.getcwd(),\"data\")\n",
        "\n",
        "def sub_load_df(path:str, is_organic: bool) -> pd.DataFrame:\n",
        "    file_paths = [rf\"{path}/{file_name}\" for file_name in os.listdir(path)]\n",
        "    image_type = [is_organic for _ in range(len(file_paths))]\n",
        "    return pd.DataFrame({\n",
        "        \"file_path\": file_paths,\n",
        "        \"is_organic\": image_type\n",
        "    })\n",
        "\n",
        "def load_df1() -> pd.DataFrame:\n",
        "    df_train_1 = sub_load_df(rf\"{data_path}/d1/DATASET/TRAIN/O\", True)\n",
        "    df_train_2 = sub_load_df(rf\"{data_path}/d1/DATASET/TRAIN/R\", False)\n",
        "    df_train = pd.concat([df_train_1, df_train_2], ignore_index=True)\n",
        "\n",
        "    df_test_1 = sub_load_df(rf\"{data_path}/d1/DATASET/TEST/O\", True)\n",
        "    df_test_2 = sub_load_df(rf\"{data_path}/d1/DATASET/TEST/R\", False)\n",
        "    df_test = pd.concat([df_test_1, df_test_2], ignore_index=True)\n",
        "\n",
        "    return pd.concat([df_train, df_test], ignore_index=True)\n",
        "\n",
        "df1 = load_df1()\n",
        "print(df1.head())\n",
        "print(df1[\"is_organic\"].value_counts())"
      ],
      "outputs": [
        {
          "output_type": "stream",
          "name": "stdout",
          "text": "                                           file_path  is_organic\n0  /home/espacio/ml/sem5-proj/data/d1/DATASET/TRA...        True\n1  /home/espacio/ml/sem5-proj/data/d1/DATASET/TRA...        True\n2  /home/espacio/ml/sem5-proj/data/d1/DATASET/TRA...        True\n3  /home/espacio/ml/sem5-proj/data/d1/DATASET/TRA...        True\n4  /home/espacio/ml/sem5-proj/data/d1/DATASET/TRA...        True\nis_organic\nTrue     13966\nFalse    11111\nName: count, dtype: int64\n"
        }
      ],
      "execution_count": 1
    },
    {
      "cell_type": "code",
      "metadata": {
        "jukit_cell_id": "QSfFEG8WpV"
      },
      "source": [
        "def load_df2() -> pd.DataFrame:\n",
        "    train_path = rf\"{data_path}/d2/TRAIN.\"\n",
        "    df_trains = []\n",
        "    for i in range(1,5):\n",
        "        df_trains.append(sub_load_df(rf\"{train_path}{i}/B\",True))\n",
        "        df_trains.append(sub_load_df(rf\"{train_path}{i}/B\",False))\n",
        "\n",
        "    df_test_1 = sub_load_df(rf\"{data_path}/d2/TEST/B\",True)\n",
        "    df_test_2 = sub_load_df(rf\"{data_path}/d2/TEST/N\",False)\n",
        "    df_final = pd.concat([df_test_1, df_test_2], ignore_index=True)\n",
        "\n",
        "    for df_train in df_trains:\n",
        "        df_final=pd.concat([df_final,df_train], ignore_index=True)\n",
        "\n",
        "    return df_final\n",
        "\n",
        "df2 = load_df2()\n",
        "print(df2.head())\n",
        "print(df2[\"is_organic\"].value_counts())"
      ],
      "outputs": [
        {
          "output_type": "stream",
          "name": "stdout",
          "text": "                                           file_path  is_organic\n0  /home/espacio/ml/sem5-proj/data/d2/TEST/B/TEST...        True\n1  /home/espacio/ml/sem5-proj/data/d2/TEST/B/TEST...        True\n2  /home/espacio/ml/sem5-proj/data/d2/TEST/B/TEST...        True\n3  /home/espacio/ml/sem5-proj/data/d2/TEST/B/TEST...        True\n4  /home/espacio/ml/sem5-proj/data/d2/TEST/B/TEST...        True\nis_organic\nTrue     128208\nFalse    128208\nName: count, dtype: int64\n"
        }
      ],
      "execution_count": 2
    },
    {
      "cell_type": "code",
      "metadata": {
        "jukit_cell_id": "A71QhYEsZq"
      },
      "source": [
        "base_dir = rf\"{data_path}/d3/images/images\"\n",
        "organic_dirs = [\"food_waste\", \"eggshells\", \"coffee_grounds\", \"tea_bags\"]\n",
        "non_organic_dirs = [dir for dir in os.listdir(base_dir) if dir not in organic_dirs]\n",
        "\n",
        "def load_df3() -> pd.DataFrame:\n",
        "    df = None\n",
        "    for dir in organic_dirs:\n",
        "        for s_dir in [\"default\", \"real_world\"]:\n",
        "            if df is None:\n",
        "                df=sub_load_df(rf\"{base_dir}/{dir}/{s_dir}\",True)\n",
        "            else:\n",
        "                df=pd.concat([df,sub_load_df(rf\"{base_dir}/{dir}/{s_dir}\",True)], ignore_index=True)\n",
        "    for dir in non_organic_dirs:\n",
        "        for s_dir in [\"default\", \"real_world\"]:\n",
        "            if df is not None:\n",
        "                df=pd.concat([df,sub_load_df(rf\"{base_dir}/{dir}/{s_dir}\",False)], ignore_index=True)\n",
        "\n",
        "    if df is None:\n",
        "        return pd.DataFrame()\n",
        "    else:\n",
        "        return df\n",
        "\n",
        "df3 = load_df3()\n",
        "print(df3.head())\n",
        "print(df3[\"is_organic\"].value_counts())"
      ],
      "outputs": [
        {
          "output_type": "stream",
          "name": "stdout",
          "text": "                                           file_path  is_organic\n0  /home/espacio/ml/sem5-proj/data/d3/images/imag...        True\n1  /home/espacio/ml/sem5-proj/data/d3/images/imag...        True\n2  /home/espacio/ml/sem5-proj/data/d3/images/imag...        True\n3  /home/espacio/ml/sem5-proj/data/d3/images/imag...        True\n4  /home/espacio/ml/sem5-proj/data/d3/images/imag...        True\nis_organic\nFalse    13000\nTrue      2000\nName: count, dtype: int64\n"
        }
      ],
      "execution_count": 3
    },
    {
      "cell_type": "markdown",
      "metadata": {
        "jukit_cell_id": "fJf5u2Fx3x"
      },
      "source": [
        "### Combine the datasets"
      ]
    },
    {
      "cell_type": "code",
      "metadata": {
        "jukit_cell_id": "su2XNBNeuC"
      },
      "source": [
        "df = pd.concat([df1,df2,df3], ignore_index=False)\n",
        "print(df.head())\n",
        "print(df[\"is_organic\"].value_counts())"
      ],
      "outputs": [
        {
          "output_type": "stream",
          "name": "stdout",
          "text": "                                           file_path  is_organic\n0  /home/espacio/ml/sem5-proj/data/d1/DATASET/TRA...        True\n1  /home/espacio/ml/sem5-proj/data/d1/DATASET/TRA...        True\n2  /home/espacio/ml/sem5-proj/data/d1/DATASET/TRA...        True\n3  /home/espacio/ml/sem5-proj/data/d1/DATASET/TRA...        True\n4  /home/espacio/ml/sem5-proj/data/d1/DATASET/TRA...        True\nis_organic\nFalse    152319\nTrue     144174\nName: count, dtype: int64\n"
        }
      ],
      "execution_count": 4
    },
    {
      "cell_type": "markdown",
      "metadata": {
        "jukit_cell_id": "idTeyocSBN"
      },
      "source": [
        "### Check for inconsistencies"
      ]
    },
    {
      "cell_type": "code",
      "metadata": {
        "jukit_cell_id": "MezM3RFr5V"
      },
      "source": [
        "def check_jpg(df: pd.DataFrame) -> pd.DataFrame:\n",
        "    bad_file_paths = []\n",
        "    for img in df[\"file_path\"]:\n",
        "        if not (img.endswith(\".jpg\") or img.endswith(\".png\") or img.endswith(\".jpeg\")) or not os.path.exists(img):\n",
        "            bad_file_paths.append(img)\n",
        "        else:\n",
        "            (hx,wx) = Image.open(img).size\n",
        "            if (hx!=wx):\n",
        "                bad_file_paths.append(img)\n",
        "    print(f\"{len(bad_file_paths)} paths found to have bad file paths\")\n",
        "\n",
        "    df_res = df[~df[\"file_path\"].isin(bad_file_paths)]\n",
        "    if (type(df_res)!=pd.DataFrame):\n",
        "        return pd.DataFrame()\n",
        "    else:\n",
        "        return df_res\n",
        "\n",
        "df = check_jpg(df)"
      ],
      "outputs": [
        {
          "output_type": "stream",
          "name": "stdout",
          "text": "19723 paths found to have bad file paths\n"
        }
      ],
      "execution_count": 5
    },
    {
      "cell_type": "markdown",
      "metadata": {
        "jukit_cell_id": "es7HuEMlRY"
      },
      "source": [
        "### Save the dataframe"
      ]
    },
    {
      "cell_type": "code",
      "metadata": {
        "jukit_cell_id": "3FJuiRvwEj"
      },
      "source": [
        "df.to_csv(rf\"{data_path}/trash.csv\")\n",
        "df[\"is_organic\"].value_counts()"
      ],
      "outputs": [
        {
          "output_type": "stream",
          "name": "stdout",
          "text": "\n"
        },
        {
          "output_type": "execute_result",
          "execution_count": 6,
          "data": {
            "text/plain": "is_organic\nFalse    144607\nTrue     132163\nName: count, dtype: int64"
          },
          "metadata": {}
        }
      ],
      "execution_count": 6
    },
    {
      "cell_type": "markdown",
      "metadata": {
        "jukit_cell_id": "R3p4KuPHkX"
      },
      "source": [
        "### Sample Train (AI Generated)"
      ]
    },
    {
      "cell_type": "code",
      "metadata": {
        "jukit_cell_id": "efyGUehWwh"
      },
      "source": [
        "# ==========================\n",
        "# 1. Set seeds for reproducibility\n",
        "# ==========================\n",
        "def set_seed(seed=42):\n",
        "    random.seed(seed)\n",
        "    np.random.seed(seed)\n",
        "    torch.manual_seed(seed)\n",
        "    torch.cuda.manual_seed_all(seed)\n",
        "    torch.backends.cudnn.deterministic = True\n",
        "    torch.backends.cudnn.benchmark = False\n",
        "\n",
        "set_seed(42)\n",
        "\n",
        "# ==========================\n",
        "# 2. Dataset class with lazy loading\n",
        "# ==========================\n",
        "size = (128, 128)\n",
        "\n",
        "class ImageDataset(Dataset):\n",
        "    def __init__(self, df, transform=None):\n",
        "        self.df = df.reset_index(drop=True)\n",
        "        self.transform = transform\n",
        "\n",
        "    def __len__(self):\n",
        "        return len(self.df)\n",
        "\n",
        "    def __getitem__(self, idx):\n",
        "        file_path = self.df.loc[idx, \"file_path\"]\n",
        "        label = int(self.df.loc[idx, \"is_organic\"])\n",
        "\n",
        "        img = Image.open(file_path).convert(\"RGB\").resize(size)\n",
        "        if self.transform:\n",
        "            img = self.transform(img)\n",
        "        else:\n",
        "            img = transforms.ToTensor()(img)  # scale 0-1\n",
        "        return img, label\n",
        "\n",
        "# ==========================\n",
        "# 3. Simple CNN model\n",
        "# ==========================\n",
        "class SimpleCNN(nn.Module):\n",
        "    def __init__(self):\n",
        "        super(SimpleCNN, self).__init__()\n",
        "        self.features = nn.Sequential(\n",
        "            nn.Conv2d(3, 16, 3, 1, 1),\n",
        "            nn.ReLU(),\n",
        "            nn.MaxPool2d(2),  # 128 -> 64\n",
        "            nn.Conv2d(16, 32, 3, 1, 1),\n",
        "            nn.ReLU(),\n",
        "            nn.MaxPool2d(2),  # 64 -> 32\n",
        "            nn.Conv2d(32, 64, 3, 1, 1),\n",
        "            nn.ReLU(),\n",
        "            nn.MaxPool2d(2),  # 32 -> 16\n",
        "        )\n",
        "        self.classifier = nn.Sequential(\n",
        "            nn.Flatten(),\n",
        "            nn.Linear(64*16*16, 128),\n",
        "            nn.ReLU(),\n",
        "            nn.Linear(128, 2)  # binary classification\n",
        "        )\n",
        "\n",
        "    def forward(self, x):\n",
        "        x = self.features(x)\n",
        "        x = self.classifier(x)\n",
        "        return x\n",
        "\n",
        "# ==========================\n",
        "# 4. Prepare DataLoaders\n",
        "# ==========================\n",
        "train_df, test_df = train_test_split(df, test_size=0.2, stratify=df[\"is_organic\"], random_state=42)\n",
        "\n",
        "train_dataset = ImageDataset(train_df)\n",
        "test_dataset = ImageDataset(test_df)\n",
        "\n",
        "train_loader = DataLoader(train_dataset, batch_size=64, shuffle=True)\n",
        "test_loader  = DataLoader(test_dataset, batch_size=64, shuffle=False)\n",
        "\n",
        "# ==========================\n",
        "# 5. Initialize model, loss, optimizer\n",
        "# ==========================\n",
        "device = torch.device(\"cuda\" if torch.cuda.is_available() else \"cpu\")\n",
        "model = SimpleCNN().to(device)\n",
        "criterion = nn.CrossEntropyLoss()\n",
        "optimizer = optim.Adam(model.parameters(), lr=1e-3)\n",
        "\n",
        "# ==========================\n",
        "# 6. Training loop (baseline, 5 epochs)\n",
        "# ==========================\n",
        "epochs = 5\n",
        "for epoch in range(epochs):\n",
        "    model.train()\n",
        "    running_loss = 0\n",
        "    for imgs, labels in tqdm(train_loader):\n",
        "        imgs, labels = imgs.to(device), labels.to(device)\n",
        "        optimizer.zero_grad()\n",
        "        outputs = model(imgs)\n",
        "        loss = criterion(outputs, labels)\n",
        "        loss.backward()\n",
        "        optimizer.step()\n",
        "        running_loss += loss.item()\n",
        "    print(f\"Epoch {epoch+1}/{epochs} - Loss: {running_loss/len(train_loader):.4f}\")\n",
        "\n",
        "# ==========================\n",
        "# 7. Evaluate baseline accuracy\n",
        "# ==========================\n",
        "model.eval()\n",
        "correct = 0\n",
        "total = 0\n",
        "with torch.no_grad():\n",
        "    for imgs, labels in tqdm(test_loader):\n",
        "        imgs, labels = imgs.to(device), labels.to(device)\n",
        "        outputs = model(imgs)\n",
        "        _, predicted = torch.max(outputs, 1)\n",
        "        total += labels.size(0)\n",
        "        correct += (predicted == labels).sum().item()\n",
        "\n",
        "accuracy = correct / total\n",
        "print(f\"Baseline test accuracy: {accuracy*100:.2f}%\")\n",
        "torch.save(model.state_dict(), os.path.join(os.getcwd(),\"best_models\",f\"model_{accuracy*100:.2f}.pth\"))"
      ],
      "outputs": [
        {
          "output_type": "stream",
          "name": "stdout",
          "text": "Epoch 1/5 - Loss: 0.6647\nEpoch 2/5 - Loss: 0.6556\nEpoch 3/5 - Loss: 0.6497\nEpoch 4/5 - Loss: 0.6457\nEpoch 5/5 - Loss: 0.6419\nBaseline test accuracy: 57.32%\n"
        }
      ],
      "execution_count": 7
    }
  ],
  "metadata": {
    "anaconda-cloud": {},
    "kernelspec": {
      "display_name": "python",
      "language": "python",
      "name": "python3"
    }
  },
  "nbformat": 4,
  "nbformat_minor": 4
}